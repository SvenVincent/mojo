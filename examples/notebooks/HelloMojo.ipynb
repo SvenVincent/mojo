{
  "cells" : 
  [
    {
      "cell_type" : "markdown",
      "metadata" : {},
      "source" : 
      [
        "*Copyright 2023 Modular, Inc: Licensed under the Apache License v2.0 with LLVM Exceptions.*"
      ]
    },
    {
      "attachments" : {},
      "cell_type" : "markdown",
      "metadata" : {},
      "source" : [ "# Hello, Mojo\ud83d\udd25" ]
    },
    {
      "attachments" : {},
      "cell_type" : "markdown",
      "metadata" : {},
      "source" : 
      [
        "We're excited to introduce you to Mojo with this interactive notebook!\n",
        "\n",
        "Mojo is designed as a superset of Python, so a lot of language features and\n",
        "concepts you might know in Python translate directly to Mojo. For example, a\n",
        "\"Hello World\" program in Mojo looks exactly like Python:"
      ]
    },
    {
      "cell_type" : "code",
      "execution_count" : 1,
      "metadata" : {},
      "outputs" : 
      [
        {
          "name" : "stdout",
          "output_type" : "stream",
          "text" : [ "Hello Mojo!\n" ]
        }
      ],
      "source" : [ "print(\"Hello Mojo!\")" ]
    },
    {
      "attachments" : {},
      "cell_type" : "markdown",
      "metadata" : {},
      "source" : 
      [
        "You can also import existing Python packages and use them as if you're\n",
        "programming in Python, but we'll get to that later.\n",
        "\n",
        "However, it's important to know that Mojo is an entirely new language on its\n",
        "own, not just a new implementation of Python with extra sugar. As you\n",
        "learn more about Mojo, you'll see that it has more in common with\n",
        "languages like Rust and C++, except it uses Python syntax and fully supports\n",
        "imported Python packages.\n",
        "\n",
        "So let's get started! This notebook introduces the basics of the Mojo language,\n",
        "and requires only a little programming experience.\n",
        "\n",
        "If you want much more detail about the language, check out the [Mojo programming\n",
        "manual](https://docs.modular.com/mojo/programming-manual.html)."
      ]
    },
    {
      "attachments" : {},
      "cell_type" : "markdown",
      "metadata" : {},
      "source" : 
      [
        "<div class=\"alert alert-block alert-success\">\n",
        "<b>Mojo is a work in progress:</b> Please send us bug\n",
        "reports, suggestions, and questions through our <a\n",
        "href=\"https://docs.modular.com/mojo/community.html\">Mojo community channels</a>.\n",
        "And see what's new in the <a\n",
        "href=\"https://docs.modular.com/mojo/changelog.html\">Mojo changelog</a>.\n",
        "</div>"
      ]
    },
    {
      "attachments" : {},
      "cell_type" : "markdown",
      "metadata" : {},
      "source" : 
      [
        "<div class=\"alert alert-block alert-info\">\n",
        "<b>Note:</b> Mojo Playground is designed only for testing the Mojo language.\n",
        "The cloud environment is not always stable and performance varies, so it is not\n",
        "an appropriate environment for performance benchmarking. However, we believe it\n",
        "can still demonstrate the magnitude of performance gains provided by Mojo, as\n",
        "shown in the <code>Matmul.ipynb</code> notebook. For\n",
        "more information about the compute power in the Mojo Playground, see the <a\n",
        "href=\"https://docs.modular.com/mojo/faq.html#mojo-playground\">Mojo FAQ</a>.\n",
        "</div>"
      ]
    },
    {
      "attachments" : {},
      "cell_type" : "markdown",
      "metadata" : {},
      "source" : 
      [
        "## Language basics\n",
        "\n",
        "First and foremost, Mojo is a compiled language and a lot of its performance\n",
        "and memory-safety features are derived from that fact. Mojo code can be\n",
        "ahead-of-time (AOT) or just-in-time (JIT) compiled. Mojo also\n",
        "supports [REPL](https://en.wikipedia.org/wiki/Read%E2%80%93eval%E2%80%93print_loop)\n",
        "environments such as the one that runs the code in this Jupyter notebook\n",
        "(and command-line REPL is coming soon).\n",
        "\n",
        "Like other compiled languages, Mojo requires a `main()` function as the\n",
        "entry point to a program. For example:"
      ]
    },
    {
      "cell_type" : "code",
      "execution_count" : 2,
      "metadata" : {},
      "outputs" : [],
      "source" : 
      [
        "fn main():\n",
        "    var x: Int = 1\n",
        "    x += 1\n",
        "    print(x)"
      ]
    },
    {
      "attachments" : {},
      "cell_type" : "markdown",
      "metadata" : {},
      "source" : 
      [
        "If you know Python, you might have expected `def main()` instead of `fn main()`.\n",
        "Both actually work in Mojo, but using `fn` behaves a bit differently, as we'll\n",
        "discuss below.\n",
        "\n",
        "Of course, the `main()` function isn't required in a REPL environment, as\n",
        "shown above when we printed \"hello world\" without a `main()` function.\n",
        "But the `main()` function is required when you want to write your own `.mojo`\n",
        "programs.\n",
        "\n",
        "<div class=\"alert alert-block alert-info\">\n",
        "\n",
        "**Note:**\n",
        "Local development with `.mojo` files is coming soon\u2014currently, using the Mojo\n",
        "Playground is the only way you can run Mojo code.\n",
        "\n",
        "</div>\n",
        "\n",
        "Now let's discuss the code shown in this `main()` function."
      ]
    },
    {
      "attachments" : {},
      "cell_type" : "markdown",
      "metadata" : {},
      "source" : 
      [
        "### Syntax and semantics\n",
        "\n",
        "This is simple: Mojo uses all of Python's syntax and semantics. (If you're not\n",
        "familiar with Python syntax, there are a ton of great resources online that can\n",
        "teach you.)\n",
        "\n",
        "For example, like Python, Mojo uses line breaks and indentation to define code\n",
        "blocks (not curly braces), and Mojo supports all of Python's control-flow syntax\n",
        "such as `if` conditions and `for` loops.\n",
        "\n",
        "However, Mojo is still a work in progress, so there are some things from Python\n",
        "that aren't implemented in Mojo yet (see the [Mojo\n",
        "roadmap](https://docs.modular.com/mojo/roadmap.html)). All the missing Python\n",
        "features will arrive in time, but Mojo already includes many features and\n",
        "capabilities beyond what's available in Python.\n",
        "\n",
        "As such, the following sections will focus on some of the language features that\n",
        "are unique to Mojo (compared to Python)."
      ]
    },
    {
      "attachments" : {},
      "cell_type" : "markdown",
      "metadata" : {},
      "source" : 
      [
        "\n",
        "### Functions\n",
        "\n",
        "Mojo functions can be declared with either `fn` (shown above) or `def` (as\n",
        "in Python). The `fn` declaration enforces strongly-typed and memory-safe\n",
        "behaviors, while `def` provides Python-style dynamic behaviors.\n",
        "\n",
        "Both `fn` and `def` functions have their value, and it's important that you\n",
        "learn them both. However, for the purposes of this introduction, we're going to\n",
        "focus on `fn` functions only. For much more detail about both, see the\n",
        "[programming manual](https://docs.modular.com/mojo/programming-manual.html).\n",
        "\n",
        "In the following sections, you'll learn how `fn` functions enforce\n",
        "strongly-typed and memory-safe behaviors in your code."
      ]
    },
    {
      "attachments" : {},
      "cell_type" : "markdown",
      "metadata" : {},
      "source" : 
      [
        "### Variables\n",
        "\n",
        "You can declare variables, such as `x` in the above `main()` function, with\n",
        "`var` to create a mutable value or with `let` to create an immutable value.\n",
        "\n",
        "Go ahead and change `var` to `let` in the `main()` function above and run it.\n",
        "You'll get a compiler error like this:\n",
        "\n",
        "```text\n",
        "error: Expression [15]:7:5: expression must be mutable for in-place operator destination\n",
        "    x += 1\n",
        "    ^\n",
        "```\n",
        "\n",
        "That's because `let` makes it immutable, so you can't increment the value.\n",
        "\n",
        "And if you delete `var` completely, you'll get an error because `fn`\n",
        "functions require explicit variable declarations (unlike `def` functions).\n",
        "\n",
        "Finally, notice that the `x` variable has an explicit `Int` type specification.\n",
        "Declaring the type is not required for variables in `fn`, but it is desirable\n",
        "sometimes. If you omit it, Mojo infers the type, as shown here:"
      ]
    },
    {
      "cell_type" : "code",
      "execution_count" : 3,
      "metadata" : {},
      "outputs" : 
      [
        {
          "name" : "stdout",
          "output_type" : "stream",
          "text" : [ "3\n" ]
        }
      ],
      "source" : 
      [
        "fn do_math():\n",
        "    let x: Int = 1\n",
        "    let y = 2\n",
        "    print(x + y)\n",
        "\n",
        "do_math()"
      ]
    },
    {
      "attachments" : {},
      "cell_type" : "markdown",
      "metadata" : {},
      "source" : 
      [
        "### Function arguments and returns\n",
        "\n",
        "Unlike local variables, arguments in an `fn` function must specify a type.\n",
        "\n",
        "To return a value from an `fn` function, you must declare the return type with\n",
        "an arrow `->` at the end of the signature.\n",
        "\n",
        "For example:"
      ]
    },
    {
      "cell_type" : "code",
      "execution_count" : 4,
      "metadata" : {},
      "outputs" : 
      [
        {
          "name" : "stdout",
          "output_type" : "stream",
          "text" : [ "3\n" ]
        }
      ],
      "source" : 
      [
        "fn add(x: Int, y: Int) -> Int:\n",
        "    return x + y\n",
        "\n",
        "z = add(1, 2)\n",
        "print(z)"
      ]
    },
    {
      "attachments" : {},
      "cell_type" : "markdown",
      "metadata" : {},
      "source" : 
      [
        "#### Argument mutability and ownership\n",
        "\n",
        "Now let's explore how argument values are shared with a function.\n",
        "\n",
        "Notice that, above, `add()` doesn't modify `x` or `y`, it only reads the\n",
        "values. In fact, as written, the function *cannot* modify them because `fn`\n",
        "arguments are **immutable references**, by default. \n",
        "\n",
        "In terms of argument conventions, this is called \"borrowing,\" and although it's\n",
        "the default for `fn` functions, you can make it explicit with the `borrowed`\n",
        "declaration like this (this behaves exactly the same as the `add()` above):"
      ]
    },
    {
      "cell_type" : "code",
      "execution_count" : 5,
      "metadata" : {},
      "outputs" : [],
      "source" : 
      [
        "fn add(borrowed x: Int, borrowed y: Int) -> Int:\n",
        "    return x + y"
      ]
    },
    {
      "attachments" : {},
      "cell_type" : "markdown",
      "metadata" : {},
      "source" : 
      [
        "If you want the arguments to be mutable, you need to declare the argument\n",
        "convention is `inout`. This means that changes made to the arguments *in*side\n",
        "the function are visible *out*side the function. \n",
        "\n",
        "For example, this function is able to modify the original variables:"
      ]
    },
    {
      "cell_type" : "code",
      "execution_count" : 6,
      "metadata" : {},
      "outputs" : 
      [
        {
          "name" : "stdout",
          "output_type" : "stream",
          "text" : [ "2\n", "3\n", "5\n" ]
        }
      ],
      "source" : 
      [
        "fn add_inout(inout x: Int, inout y: Int) -> Int:\n",
        "    x += 1\n",
        "    y += 1\n",
        "    return x + y\n",
        "\n",
        "var a = 1\n",
        "var b = 2\n",
        "c = add_inout(a, b)\n",
        "print(a)\n",
        "print(b)\n",
        "print(c)"
      ]
    },
    {
      "attachments" : {},
      "cell_type" : "markdown",
      "metadata" : {},
      "source" : 
      [
        "Another option is to declare the argument as `owned`, which provides\n",
        "the function full ownership of the value (it's mutable and guaranteed unique).\n",
        "This way, the function can modify the value and not worry about affecting\n",
        "variables outside the function. For example:"
      ]
    },
    {
      "cell_type" : "code",
      "execution_count" : 7,
      "metadata" : {},
      "outputs" : 
      [
        {
          "name" : "stdout",
          "output_type" : "stream",
          "text" : [ "mojo\n", "mojo\ud83d\udd25\n" ]
        }
      ],
      "source" : 
      [
        "fn set_fire(owned text: String) -> String:\n",
        "    text += \"\ud83d\udd25\"\n",
        "    return text\n",
        "\n",
        "fn mojo():\n",
        "    let a: String = \"mojo\"\n",
        "    let b = set_fire(a)\n",
        "    print(a)\n",
        "    print(b)\n",
        "\n",
        "mojo()"
      ]
    },
    {
      "attachments" : {},
      "cell_type" : "markdown",
      "metadata" : {},
      "source" : 
      [
        "In this case, Mojo makes a copy of `a` and passes it as the `text` argument.\n",
        "The original `a` string is still alive and well.\n",
        "\n",
        "However, if you want to give the function ownership of the value and **do not**\n",
        "want to make a copy (which can be an expensive operation for some types), then\n",
        "you can add the `^` \"transfer\" operator when you pass `a` to the function. The\n",
        "transfer operator effectively destroys the local variable name\u2014any attempt to\n",
        "call upon it later causes a compiler error.\n",
        "\n",
        "Try it above by changing the call to `set_fire()` to look like this:\n",
        "\n",
        "```mojo\n",
        "    let b = set_fire(a^)\n",
        "```\n",
        "\n",
        "You'll now get an error because the transfer operator effectively destroys the\n",
        "`a` variable, so when the following `print()` function tries to use `a`, that\n",
        "variable isn't initialized anymore.\n",
        "\n",
        "If you delete `print(a)`, then it works fine.\n",
        "\n",
        "<div class=\"alert alert-block alert-info\">\n",
        "\n",
        "**Note:** Currently, Mojo always makes a copy when a function returns a value.\n",
        "\n",
        "</div>"
      ]
    },
    {
      "attachments" : {},
      "cell_type" : "markdown",
      "metadata" : {},
      "source" : 
      [
        "## Structures\n",
        "\n",
        "You can build high-level abstractions for types (or \"objects\") in a `struct`. A\n",
        "`struct` in Mojo is similar to a `class` in Python: they both support methods,\n",
        "fields, operator overloading, decorators for metaprogramming, etc. However,\n",
        "Mojo structs are completely static\u2014they are bound at compile-time, so they do\n",
        "not allow dynamic dispatch or any runtime changes to the structure. (Mojo will\n",
        "also support classes in the future.)\n",
        "\n",
        "For example, here's a basic struct:"
      ]
    },
    {
      "cell_type" : "code",
      "execution_count" : 8,
      "metadata" : {},
      "outputs" : [],
      "source" : 
      [
        "struct MyPair:\n",
        "    var first: Int\n",
        "    var second: Int\n",
        "\n",
        "    # This \"initializer\" behaves like a constructor in other languages\n",
        "    fn __init__(inout self, first: Int, second: Int):\n",
        "        self.first = first\n",
        "        self.second = second\n",
        "    \n",
        "    fn dump(inout self):\n",
        "        print(self.first)\n",
        "        print(self.second)"
      ]
    },
    {
      "attachments" : {},
      "cell_type" : "markdown",
      "metadata" : {},
      "source" : [ "And here's how you can use it:" ]
    },
    {
      "cell_type" : "code",
      "execution_count" : 9,
      "metadata" : {},
      "outputs" : [],
      "source" : 
      [
        "def pair_test() -> Bool:\n",
        "    let p = MyPair(1, 2)\n",
        "    # Uncomment to see an error:\n",
        "    # return p < 4 # gives a compile time error\n",
        "    return True"
      ]
    },
    {
      "attachments" : {},
      "cell_type" : "markdown",
      "metadata" : {},
      "source" : 
      [
        "If you're familiar with Python, then the `__init__()` method and the `self`\n",
        "argument should be familiar to you. If you're _not_ familiar with Python, then\n",
        "notice that, when we call `dump()`, we don't actually pass a value for the\n",
        "`self` argument. The value for `self` is automatically provided with the\n",
        "current instance of the struct (similar to the `this` name used in some other\n",
        "languages).\n",
        "\n",
        "For much more detail about structs and other special methods like `__init__()`\n",
        "(also known as \"dunder\" methods), see the [programming\n",
        "manual](programming-manual.ipynb)."
      ]
    },
    {
      "attachments" : {},
      "cell_type" : "markdown",
      "metadata" : {},
      "source" : 
      [
        "## Python integration\n",
        "\n",
        "Although Mojo is still a work in progress and is not a full superset of Python\n",
        "yet, we've built a mechanism to import Python modules as-is, so you can\n",
        "leverage existing Python code right away. Under the hood, this mechanism uses\n",
        "the CPython interpreter to run Python code, and thus it works seamlessly with\n",
        "all Python modules today.\n",
        "\n",
        "For example, here's how you can import and use NumPy (you must have Python\n",
        "`numpy` installed, but in this case, it's already installed in the Mojo\n",
        "Playground):"
      ]
    },
    {
      "cell_type" : "code",
      "execution_count" : 10,
      "metadata" : {},
      "outputs" : 
      [
        {
          "name" : "stdout",
          "output_type" : "stream",
          "text" : 
          [
            "[[ 0  1  2  3  4]\n",
            " [ 5  6  7  8  9]\n",
            " [10 11 12 13 14]]\n",
            "(3, 5)\n"
          ]
        }
      ],
      "source" : 
      [
        "from python import Python\n",
        "\n",
        "let np = Python.import_module(\"numpy\")\n",
        "\n",
        "ar = np.arange(15).reshape(3, 5)\n",
        "print(ar)\n",
        "print(ar.shape)"
      ]
    },
    {
      "attachments" : {},
      "cell_type" : "markdown",
      "metadata" : {},
      "source" : 
      [
        "**Note:** Mojo is not a feature-complete superset of Python yet, so some\n",
        "language patterns or features from Python currently do not work. So, you can't\n",
        "always copy-paste Python code and run it in Mojo. Please [report any issues you\n",
        "find on GitHub](https://github.com/modularml/mojo/issues)."
      ]
    },
    {
      "attachments" : {},
      "cell_type" : "markdown",
      "metadata" : {},
      "source" : 
      [
        "## Next steps\n",
        "\n",
        "We hope this notebook covered enough of the basics to get you started. It's\n",
        "intentionally brief, so if you want more details, check out the [Mojo\n",
        "programming manual](https://docs.modular.com/mojo/programming-manual.html).\n",
        "Also see the other [Mojo notebooks](https://docs.modular.com/mojo/notebooks/)\n",
        "for more interesting and complex code examples.\n",
        "\n",
        "And to see all the available Mojo APIs, check out the [Mojo standard library\n",
        "reference](https://docs.modular.com/mojo/lib.html)."
      ]
    }
  ],
  "metadata" : 
  {
    "kernelspec" : 
    {
      "display_name" : "Mojo",
      "language" : "mojo",
      "name" : "mojo-jupyter-kernel"
    },
    "language_info" : 
    {
      "codemirror_mode" : 
      {
        "name" : "mojo"
      },
      "file_extension" : ".mojo",
      "mimetype" : "text/x-mojo",
      "name" : "mojo"
    },
    "orig_nbformat" : 4
  },
  "nbformat" : 4,
  "nbformat_minor" : 2
}